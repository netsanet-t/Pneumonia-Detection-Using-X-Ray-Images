{
  "nbformat": 4,
  "nbformat_minor": 0,
  "metadata": {
    "colab": {
      "provenance": [],
      "gpuType": "T4"
    },
    "kernelspec": {
      "name": "python3",
      "display_name": "Python 3"
    },
    "language_info": {
      "name": "python"
    },
    "accelerator": "GPU"
  },
  "cells": [
    {
      "cell_type": "code",
      "source": [
        "# Install required packages\n",
        "!pip install tensorflow numpy matplotlib seaborn scikit-learn opencv-python-headless -q\n",
        "\n",
        "import os\n",
        "import numpy as np\n",
        "import tensorflow as tf\n",
        "from tensorflow import keras\n",
        "from tensorflow.keras import layers, applications, regularizers\n",
        "import matplotlib.pyplot as plt\n",
        "import seaborn as sns\n",
        "from sklearn.metrics import classification_report, confusion_matrix, roc_curve, auc, precision_recall_curve\n",
        "from sklearn.model_selection import train_test_split\n",
        "import cv2\n",
        "from IPython.display import display, Markdown\n",
        "\n",
        "# Set random seeds for reproducibility\n",
        "np.random.seed(42)\n",
        "tf.random.set_seed(42)\n",
        "\n",
        "# Configuration\n",
        "BASE_PATH = \"/content/drive/MyDrive/chest_xray\"\n",
        "IMG_SIZE = (224, 224)\n",
        "BATCH_SIZE = 32\n",
        "EPOCHS = 30  # Increased epochs\n",
        "AUTOTUNE = tf.data.AUTOTUNE\n",
        "\n",
        "# Gaussian blur implementation\n",
        "def gaussian_blur(image, kernel_size=3, sigma=1.0):\n",
        "    \"\"\"Apply Gaussian blur using TensorFlow operations\"\"\"\n",
        "    kernel = tf.range(-kernel_size//2 + 1, kernel_size//2 + 1, dtype=tf.float32)\n",
        "    kernel = tf.exp(-(kernel**2) / (2 * sigma**2))\n",
        "    kernel = kernel / tf.reduce_sum(kernel)\n",
        "    kernel = tf.tensordot(kernel, kernel, axes=0)\n",
        "    kernel = kernel[:, :, tf.newaxis, tf.newaxis]\n",
        "    kernel = tf.tile(kernel, [1, 1, 3, 1])\n",
        "\n",
        "    blurred = tf.nn.depthwise_conv2d(\n",
        "        image[tf.newaxis, ...],\n",
        "        kernel,\n",
        "        strides=[1, 1, 1, 1],\n",
        "        padding=\"SAME\"\n",
        "    )\n",
        "    return blurred[0]\n",
        "\n",
        "# 1. Enhanced Dataset Handling ------------------------------------------------\n",
        "\n",
        "def load_dataset(path):\n",
        "    \"\"\"Load dataset with quality filtering\"\"\"\n",
        "    classes = [\"NORMAL\", \"PNEUMONIA\"]\n",
        "    file_paths = []\n",
        "    labels = []\n",
        "\n",
        "    for cls in classes:\n",
        "        cls_path = os.path.join(path, cls)\n",
        "        for file in os.listdir(cls_path):\n",
        "            if file.endswith(\".jpeg\"):\n",
        "                file_path = os.path.join(cls_path, file)\n",
        "\n",
        "                # Basic quality check\n",
        "                img = cv2.imread(file_path)\n",
        "                if img is None or img.size == 0:\n",
        "                    continue  # Skip corrupt images\n",
        "\n",
        "                # Contrast check (skip low contrast images)\n",
        "                gray = cv2.cvtColor(img, cv2.COLOR_BGR2GRAY)\n",
        "                contrast = gray.std()\n",
        "                if contrast < 25:  # Skip low contrast images\n",
        "                    continue\n",
        "\n",
        "                file_paths.append(file_path)\n",
        "                labels.append(1 if cls == \"PNEUMONIA\" else 0)\n",
        "\n",
        "    return file_paths, labels\n",
        "\n",
        "# Load datasets\n",
        "train_paths, train_labels = load_dataset(os.path.join(BASE_PATH, \"train\"))\n",
        "test_paths, test_labels = load_dataset(os.path.join(BASE_PATH, \"test\"))\n",
        "\n",
        "# Handle validation set\n",
        "train_paths, val_paths, train_labels, val_labels = train_test_split(\n",
        "    train_paths, train_labels,\n",
        "    test_size=0.2,\n",
        "    stratify=train_labels,\n",
        "    random_state=42\n",
        ")\n",
        "\n",
        "print(f\"Training samples: {len(train_paths)}\")\n",
        "print(f\"Validation samples: {len(val_paths)}\")\n",
        "print(f\"Test samples: {len(test_paths)}\")\n",
        "\n",
        "# 2. Enhanced Data Preprocessing ----------------------------------------------\n",
        "\n",
        "def preprocess_image(path, label):\n",
        "    \"\"\"Enhanced preprocessing with better augmentation\"\"\"\n",
        "    # Read and decode image\n",
        "    img = tf.io.read_file(path)\n",
        "    img = tf.image.decode_jpeg(img, channels=3)\n",
        "\n",
        "    # Convert grayscale to RGB\n",
        "    img = tf.cond(tf.shape(img)[-1] == 1,\n",
        "                  lambda: tf.repeat(img, repeats=3, axis=-1),\n",
        "                  lambda: img)\n",
        "\n",
        "    # Resize and normalize\n",
        "    img = tf.image.resize(img, IMG_SIZE)\n",
        "    img = applications.efficientnet.preprocess_input(img)\n",
        "\n",
        "    # Enhanced augmentation\n",
        "    if tf.random.uniform(()) > 0.5:\n",
        "        img = tf.image.random_flip_left_right(img)\n",
        "    if tf.random.uniform(()) > 0.5:\n",
        "        img = tf.image.random_flip_up_down(img)\n",
        "\n",
        "    img = tf.image.random_brightness(img, max_delta=0.15)\n",
        "    img = tf.image.random_contrast(img, lower=0.8, upper=1.2)\n",
        "    img = tf.image.random_saturation(img, lower=0.8, upper=1.2)\n",
        "    img = tf.image.random_hue(img, max_delta=0.02)\n",
        "\n",
        "    # Apply Gaussian blur to 30% of images\n",
        "    if tf.random.uniform(()) > 0.7:\n",
        "        img = gaussian_blur(img)\n",
        "\n",
        "    return img, label\n",
        "\n",
        "def create_dataset(paths, labels, is_training=False):\n",
        "    dataset = tf.data.Dataset.from_tensor_slices((paths, labels))\n",
        "    dataset = dataset.map(preprocess_image, num_parallel_calls=AUTOTUNE)\n",
        "    dataset = dataset.cache()\n",
        "\n",
        "    if is_training:\n",
        "        dataset = dataset.shuffle(buffer_size=1500)\n",
        "        dataset = dataset.repeat()\n",
        "\n",
        "    dataset = dataset.batch(BATCH_SIZE)\n",
        "    return dataset.prefetch(buffer_size=AUTOTUNE)\n",
        "\n",
        "# Create datasets\n",
        "train_ds = create_dataset(train_paths, train_labels, is_training=True)\n",
        "val_ds = create_dataset(val_paths, val_labels)\n",
        "test_ds = create_dataset(test_paths, test_labels)\n",
        "\n",
        "# Handle class imbalance\n",
        "pneumonia_count = np.sum(train_labels)\n",
        "normal_count = len(train_labels) - pneumonia_count\n",
        "total = len(train_labels)\n",
        "\n",
        "weight_for_0 = (1 / normal_count) * (total / 2.0)\n",
        "weight_for_1 = (1 / pneumonia_count) * (total / 2.0)\n",
        "class_weights = {0: weight_for_0, 1: weight_for_1}\n",
        "\n",
        "print(f\"Weight for class 0 (Normal): {weight_for_0:.2f}\")\n",
        "print(f\"Weight for class 1 (Pneumonia): {weight_for_1:.2f}\")"
      ],
      "metadata": {
        "colab": {
          "base_uri": "https://localhost:8080/"
        },
        "id": "q4CFX26XmZZm",
        "outputId": "bdde2d3f-0481-4365-a56a-430a173cd1d7"
      },
      "execution_count": 1,
      "outputs": [
        {
          "output_type": "stream",
          "name": "stdout",
          "text": [
            "Training samples: 2725\n",
            "Validation samples: 682\n",
            "Test samples: 636\n",
            "Weight for class 0 (Normal): 2.02\n",
            "Weight for class 1 (Pneumonia): 0.66\n"
          ]
        }
      ]
    },
    {
      "cell_type": "code",
      "source": [
        "# 3. Improved Model Architecture ----------------------------------------------\n",
        "\n",
        "def build_model():\n",
        "    \"\"\"Enhanced model with regularization\"\"\"\n",
        "    base_model = applications.EfficientNetB0(\n",
        "        include_top=False,\n",
        "        weights=\"imagenet\",\n",
        "        input_shape=(IMG_SIZE[0], IMG_SIZE[1], 3),\n",
        "        pooling=\"avg\"\n",
        "    )\n",
        "\n",
        "    # Freeze more layers\n",
        "    base_model.trainable = True\n",
        "    for layer in base_model.layers[:180]:\n",
        "        layer.trainable = False\n",
        "\n",
        "    inputs = keras.Input(shape=(IMG_SIZE[0], IMG_SIZE[1], 3))\n",
        "    x = base_model(inputs, training=True)\n",
        "\n",
        "    # Enhanced classification head with regularization\n",
        "    x = layers.Dense(256, activation=\"relu\",\n",
        "                     kernel_regularizer=regularizers.l2(0.001))(x)\n",
        "    x = layers.BatchNormalization()(x)\n",
        "    x = layers.Dropout(0.5)(x)  # Increased dropout\n",
        "\n",
        "    x = layers.Dense(128, activation=\"relu\",\n",
        "                     kernel_regularizer=regularizers.l2(0.001))(x)\n",
        "    x = layers.BatchNormalization()(x)\n",
        "    x = layers.Dropout(0.4)(x)\n",
        "\n",
        "    outputs = layers.Dense(1, activation=\"sigmoid\")(x)\n",
        "\n",
        "    model = keras.Model(inputs, outputs)\n",
        "\n",
        "    model.compile(\n",
        "        optimizer=keras.optimizers.Adam(learning_rate=1e-4),\n",
        "        loss=\"binary_crossentropy\",\n",
        "        metrics=[\n",
        "            \"accuracy\",\n",
        "            keras.metrics.Precision(name=\"precision\"),\n",
        "            keras.metrics.Recall(name=\"recall\"),\n",
        "            keras.metrics.AUC(name=\"auc\"),\n",
        "            keras.metrics.AUC(name=\"prc\", curve=\"PR\")  # Precision-Recall curve\n",
        "        ]\n",
        "    )\n",
        "    return model\n",
        "\n",
        "model = build_model()\n",
        "model.summary()\n",
        "\n",
        "# 4. Enhanced Training with More Callbacks ------------------------------------\n",
        "\n",
        "# Callbacks\n",
        "early_stopping = keras.callbacks.EarlyStopping(\n",
        "    monitor=\"val_prc\",  # Monitor Precision-Recall AUC\n",
        "    patience=8,\n",
        "    mode=\"max\",\n",
        "    restore_best_weights=True\n",
        ")\n",
        "\n",
        "reduce_lr = keras.callbacks.ReduceLROnPlateau(\n",
        "    monitor=\"val_loss\",\n",
        "    factor=0.3,  # More aggressive reduction\n",
        "    patience=3,\n",
        "    min_lr=1e-6\n",
        ")\n",
        "\n",
        "checkpoint = keras.callbacks.ModelCheckpoint(\n",
        "    \"best_model.h5\",\n",
        "    save_best_only=True,\n",
        "    monitor=\"val_prc\",\n",
        "    mode=\"max\"\n",
        ")\n",
        "\n",
        "# Calculate steps per epoch\n",
        "steps_per_epoch = len(train_paths) // BATCH_SIZE\n",
        "\n",
        "# Train model\n",
        "history = model.fit(\n",
        "    train_ds,\n",
        "    epochs=EPOCHS,\n",
        "    steps_per_epoch=steps_per_epoch,\n",
        "    validation_data=val_ds,\n",
        "    class_weight=class_weights,\n",
        "    callbacks=[early_stopping, reduce_lr, checkpoint]\n",
        ")\n",
        "\n",
        "# Load best model\n",
        "model = keras.models.load_model(\"best_model.h5\")"
      ],
      "metadata": {
        "colab": {
          "base_uri": "https://localhost:8080/",
          "height": 1000
        },
        "id": "SAvANWQ19MCJ",
        "outputId": "58a277fc-7e83-4050-b6cc-6592b31e269b"
      },
      "execution_count": 2,
      "outputs": [
        {
          "output_type": "stream",
          "name": "stdout",
          "text": [
            "Downloading data from https://storage.googleapis.com/keras-applications/efficientnetb0_notop.h5\n",
            "\u001b[1m16705208/16705208\u001b[0m \u001b[32m━━━━━━━━━━━━━━━━━━━━\u001b[0m\u001b[37m\u001b[0m \u001b[1m0s\u001b[0m 0us/step\n"
          ]
        },
        {
          "output_type": "display_data",
          "data": {
            "text/plain": [
              "\u001b[1mModel: \"functional\"\u001b[0m\n"
            ],
            "text/html": [
              "<pre style=\"white-space:pre;overflow-x:auto;line-height:normal;font-family:Menlo,'DejaVu Sans Mono',consolas,'Courier New',monospace\"><span style=\"font-weight: bold\">Model: \"functional\"</span>\n",
              "</pre>\n"
            ]
          },
          "metadata": {}
        },
        {
          "output_type": "display_data",
          "data": {
            "text/plain": [
              "┏━━━━━━━━━━━━━━━━━━━━━━━━━━━━━━━━━┳━━━━━━━━━━━━━━━━━━━━━━━━┳━━━━━━━━━━━━━━━┓\n",
              "┃\u001b[1m \u001b[0m\u001b[1mLayer (type)                   \u001b[0m\u001b[1m \u001b[0m┃\u001b[1m \u001b[0m\u001b[1mOutput Shape          \u001b[0m\u001b[1m \u001b[0m┃\u001b[1m \u001b[0m\u001b[1m      Param #\u001b[0m\u001b[1m \u001b[0m┃\n",
              "┡━━━━━━━━━━━━━━━━━━━━━━━━━━━━━━━━━╇━━━━━━━━━━━━━━━━━━━━━━━━╇━━━━━━━━━━━━━━━┩\n",
              "│ input_layer_1 (\u001b[38;5;33mInputLayer\u001b[0m)      │ (\u001b[38;5;45mNone\u001b[0m, \u001b[38;5;34m224\u001b[0m, \u001b[38;5;34m224\u001b[0m, \u001b[38;5;34m3\u001b[0m)    │             \u001b[38;5;34m0\u001b[0m │\n",
              "├─────────────────────────────────┼────────────────────────┼───────────────┤\n",
              "│ efficientnetb0 (\u001b[38;5;33mFunctional\u001b[0m)     │ (\u001b[38;5;45mNone\u001b[0m, \u001b[38;5;34m1280\u001b[0m)           │     \u001b[38;5;34m4,049,571\u001b[0m │\n",
              "├─────────────────────────────────┼────────────────────────┼───────────────┤\n",
              "│ dense (\u001b[38;5;33mDense\u001b[0m)                   │ (\u001b[38;5;45mNone\u001b[0m, \u001b[38;5;34m256\u001b[0m)            │       \u001b[38;5;34m327,936\u001b[0m │\n",
              "├─────────────────────────────────┼────────────────────────┼───────────────┤\n",
              "│ batch_normalization             │ (\u001b[38;5;45mNone\u001b[0m, \u001b[38;5;34m256\u001b[0m)            │         \u001b[38;5;34m1,024\u001b[0m │\n",
              "│ (\u001b[38;5;33mBatchNormalization\u001b[0m)            │                        │               │\n",
              "├─────────────────────────────────┼────────────────────────┼───────────────┤\n",
              "│ dropout (\u001b[38;5;33mDropout\u001b[0m)               │ (\u001b[38;5;45mNone\u001b[0m, \u001b[38;5;34m256\u001b[0m)            │             \u001b[38;5;34m0\u001b[0m │\n",
              "├─────────────────────────────────┼────────────────────────┼───────────────┤\n",
              "│ dense_1 (\u001b[38;5;33mDense\u001b[0m)                 │ (\u001b[38;5;45mNone\u001b[0m, \u001b[38;5;34m128\u001b[0m)            │        \u001b[38;5;34m32,896\u001b[0m │\n",
              "├─────────────────────────────────┼────────────────────────┼───────────────┤\n",
              "│ batch_normalization_1           │ (\u001b[38;5;45mNone\u001b[0m, \u001b[38;5;34m128\u001b[0m)            │           \u001b[38;5;34m512\u001b[0m │\n",
              "│ (\u001b[38;5;33mBatchNormalization\u001b[0m)            │                        │               │\n",
              "├─────────────────────────────────┼────────────────────────┼───────────────┤\n",
              "│ dropout_1 (\u001b[38;5;33mDropout\u001b[0m)             │ (\u001b[38;5;45mNone\u001b[0m, \u001b[38;5;34m128\u001b[0m)            │             \u001b[38;5;34m0\u001b[0m │\n",
              "├─────────────────────────────────┼────────────────────────┼───────────────┤\n",
              "│ dense_2 (\u001b[38;5;33mDense\u001b[0m)                 │ (\u001b[38;5;45mNone\u001b[0m, \u001b[38;5;34m1\u001b[0m)              │           \u001b[38;5;34m129\u001b[0m │\n",
              "└─────────────────────────────────┴────────────────────────┴───────────────┘\n"
            ],
            "text/html": [
              "<pre style=\"white-space:pre;overflow-x:auto;line-height:normal;font-family:Menlo,'DejaVu Sans Mono',consolas,'Courier New',monospace\">┏━━━━━━━━━━━━━━━━━━━━━━━━━━━━━━━━━┳━━━━━━━━━━━━━━━━━━━━━━━━┳━━━━━━━━━━━━━━━┓\n",
              "┃<span style=\"font-weight: bold\"> Layer (type)                    </span>┃<span style=\"font-weight: bold\"> Output Shape           </span>┃<span style=\"font-weight: bold\">       Param # </span>┃\n",
              "┡━━━━━━━━━━━━━━━━━━━━━━━━━━━━━━━━━╇━━━━━━━━━━━━━━━━━━━━━━━━╇━━━━━━━━━━━━━━━┩\n",
              "│ input_layer_1 (<span style=\"color: #0087ff; text-decoration-color: #0087ff\">InputLayer</span>)      │ (<span style=\"color: #00d7ff; text-decoration-color: #00d7ff\">None</span>, <span style=\"color: #00af00; text-decoration-color: #00af00\">224</span>, <span style=\"color: #00af00; text-decoration-color: #00af00\">224</span>, <span style=\"color: #00af00; text-decoration-color: #00af00\">3</span>)    │             <span style=\"color: #00af00; text-decoration-color: #00af00\">0</span> │\n",
              "├─────────────────────────────────┼────────────────────────┼───────────────┤\n",
              "│ efficientnetb0 (<span style=\"color: #0087ff; text-decoration-color: #0087ff\">Functional</span>)     │ (<span style=\"color: #00d7ff; text-decoration-color: #00d7ff\">None</span>, <span style=\"color: #00af00; text-decoration-color: #00af00\">1280</span>)           │     <span style=\"color: #00af00; text-decoration-color: #00af00\">4,049,571</span> │\n",
              "├─────────────────────────────────┼────────────────────────┼───────────────┤\n",
              "│ dense (<span style=\"color: #0087ff; text-decoration-color: #0087ff\">Dense</span>)                   │ (<span style=\"color: #00d7ff; text-decoration-color: #00d7ff\">None</span>, <span style=\"color: #00af00; text-decoration-color: #00af00\">256</span>)            │       <span style=\"color: #00af00; text-decoration-color: #00af00\">327,936</span> │\n",
              "├─────────────────────────────────┼────────────────────────┼───────────────┤\n",
              "│ batch_normalization             │ (<span style=\"color: #00d7ff; text-decoration-color: #00d7ff\">None</span>, <span style=\"color: #00af00; text-decoration-color: #00af00\">256</span>)            │         <span style=\"color: #00af00; text-decoration-color: #00af00\">1,024</span> │\n",
              "│ (<span style=\"color: #0087ff; text-decoration-color: #0087ff\">BatchNormalization</span>)            │                        │               │\n",
              "├─────────────────────────────────┼────────────────────────┼───────────────┤\n",
              "│ dropout (<span style=\"color: #0087ff; text-decoration-color: #0087ff\">Dropout</span>)               │ (<span style=\"color: #00d7ff; text-decoration-color: #00d7ff\">None</span>, <span style=\"color: #00af00; text-decoration-color: #00af00\">256</span>)            │             <span style=\"color: #00af00; text-decoration-color: #00af00\">0</span> │\n",
              "├─────────────────────────────────┼────────────────────────┼───────────────┤\n",
              "│ dense_1 (<span style=\"color: #0087ff; text-decoration-color: #0087ff\">Dense</span>)                 │ (<span style=\"color: #00d7ff; text-decoration-color: #00d7ff\">None</span>, <span style=\"color: #00af00; text-decoration-color: #00af00\">128</span>)            │        <span style=\"color: #00af00; text-decoration-color: #00af00\">32,896</span> │\n",
              "├─────────────────────────────────┼────────────────────────┼───────────────┤\n",
              "│ batch_normalization_1           │ (<span style=\"color: #00d7ff; text-decoration-color: #00d7ff\">None</span>, <span style=\"color: #00af00; text-decoration-color: #00af00\">128</span>)            │           <span style=\"color: #00af00; text-decoration-color: #00af00\">512</span> │\n",
              "│ (<span style=\"color: #0087ff; text-decoration-color: #0087ff\">BatchNormalization</span>)            │                        │               │\n",
              "├─────────────────────────────────┼────────────────────────┼───────────────┤\n",
              "│ dropout_1 (<span style=\"color: #0087ff; text-decoration-color: #0087ff\">Dropout</span>)             │ (<span style=\"color: #00d7ff; text-decoration-color: #00d7ff\">None</span>, <span style=\"color: #00af00; text-decoration-color: #00af00\">128</span>)            │             <span style=\"color: #00af00; text-decoration-color: #00af00\">0</span> │\n",
              "├─────────────────────────────────┼────────────────────────┼───────────────┤\n",
              "│ dense_2 (<span style=\"color: #0087ff; text-decoration-color: #0087ff\">Dense</span>)                 │ (<span style=\"color: #00d7ff; text-decoration-color: #00d7ff\">None</span>, <span style=\"color: #00af00; text-decoration-color: #00af00\">1</span>)              │           <span style=\"color: #00af00; text-decoration-color: #00af00\">129</span> │\n",
              "└─────────────────────────────────┴────────────────────────┴───────────────┘\n",
              "</pre>\n"
            ]
          },
          "metadata": {}
        },
        {
          "output_type": "display_data",
          "data": {
            "text/plain": [
              "\u001b[1m Total params: \u001b[0m\u001b[38;5;34m4,412,068\u001b[0m (16.83 MB)\n"
            ],
            "text/html": [
              "<pre style=\"white-space:pre;overflow-x:auto;line-height:normal;font-family:Menlo,'DejaVu Sans Mono',consolas,'Courier New',monospace\"><span style=\"font-weight: bold\"> Total params: </span><span style=\"color: #00af00; text-decoration-color: #00af00\">4,412,068</span> (16.83 MB)\n",
              "</pre>\n"
            ]
          },
          "metadata": {}
        },
        {
          "output_type": "display_data",
          "data": {
            "text/plain": [
              "\u001b[1m Trainable params: \u001b[0m\u001b[38;5;34m3,031,489\u001b[0m (11.56 MB)\n"
            ],
            "text/html": [
              "<pre style=\"white-space:pre;overflow-x:auto;line-height:normal;font-family:Menlo,'DejaVu Sans Mono',consolas,'Courier New',monospace\"><span style=\"font-weight: bold\"> Trainable params: </span><span style=\"color: #00af00; text-decoration-color: #00af00\">3,031,489</span> (11.56 MB)\n",
              "</pre>\n"
            ]
          },
          "metadata": {}
        },
        {
          "output_type": "display_data",
          "data": {
            "text/plain": [
              "\u001b[1m Non-trainable params: \u001b[0m\u001b[38;5;34m1,380,579\u001b[0m (5.27 MB)\n"
            ],
            "text/html": [
              "<pre style=\"white-space:pre;overflow-x:auto;line-height:normal;font-family:Menlo,'DejaVu Sans Mono',consolas,'Courier New',monospace\"><span style=\"font-weight: bold\"> Non-trainable params: </span><span style=\"color: #00af00; text-decoration-color: #00af00\">1,380,579</span> (5.27 MB)\n",
              "</pre>\n"
            ]
          },
          "metadata": {}
        },
        {
          "output_type": "stream",
          "name": "stdout",
          "text": [
            "Epoch 1/30\n",
            "\u001b[1m85/85\u001b[0m \u001b[32m━━━━━━━━━━━━━━━━━━━━\u001b[0m\u001b[37m\u001b[0m \u001b[1m0s\u001b[0m 175ms/step - accuracy: 0.6556 - auc: 0.7760 - loss: 1.2130 - prc: 0.9106 - precision: 0.8907 - recall: 0.6232"
          ]
        },
        {
          "output_type": "stream",
          "name": "stderr",
          "text": [
            "WARNING:absl:You are saving your model as an HDF5 file via `model.save()` or `keras.saving.save_model(model)`. This file format is considered legacy. We recommend using instead the native Keras format, e.g. `model.save('my_model.keras')` or `keras.saving.save_model(model, 'my_model.keras')`. \n"
          ]
        },
        {
          "output_type": "stream",
          "name": "stdout",
          "text": [
            "\b\b\b\b\b\b\b\b\b\b\b\b\b\b\b\b\b\b\b\b\b\b\b\b\b\b\b\b\b\b\b\b\b\b\b\b\b\b\b\b\b\b\b\b\b\b\b\b\b\b\b\b\b\b\b\b\b\b\b\b\b\b\b\b\b\b\b\b\b\b\b\b\b\b\b\b\b\b\b\b\b\b\b\b\b\b\b\b\b\b\b\b\b\b\b\b\b\b\b\b\b\b\b\b\b\b\b\b\b\b\b\b\b\b\b\b\b\b\b\b\b\b\b\b\b\b\b\b\b\b\b\b\b\b\b\b\b\b\b\r\u001b[1m85/85\u001b[0m \u001b[32m━━━━━━━━━━━━━━━━━━━━\u001b[0m\u001b[37m\u001b[0m \u001b[1m117s\u001b[0m 543ms/step - accuracy: 0.6566 - auc: 0.7771 - loss: 1.2115 - prc: 0.9111 - precision: 0.8912 - recall: 0.6240 - val_accuracy: 0.8475 - val_auc: 0.9690 - val_loss: 1.0647 - val_prc: 0.9902 - val_precision: 0.9904 - val_recall: 0.8051 - learning_rate: 1.0000e-04\n",
            "Epoch 2/30\n",
            "\u001b[1m85/85\u001b[0m \u001b[32m━━━━━━━━━━━━━━━━━━━━\u001b[0m\u001b[37m\u001b[0m \u001b[1m0s\u001b[0m 59ms/step - accuracy: 0.8358 - auc: 0.9523 - loss: 0.9202 - prc: 0.9815 - precision: 0.9787 - recall: 0.8002"
          ]
        },
        {
          "output_type": "stream",
          "name": "stderr",
          "text": [
            "WARNING:absl:You are saving your model as an HDF5 file via `model.save()` or `keras.saving.save_model(model)`. This file format is considered legacy. We recommend using instead the native Keras format, e.g. `model.save('my_model.keras')` or `keras.saving.save_model(model, 'my_model.keras')`. \n"
          ]
        },
        {
          "output_type": "stream",
          "name": "stdout",
          "text": [
            "\b\b\b\b\b\b\b\b\b\b\b\b\b\b\b\b\b\b\b\b\b\b\b\b\b\b\b\b\b\b\b\b\b\b\b\b\b\b\b\b\b\b\b\b\b\b\b\b\b\b\b\b\b\b\b\b\b\b\b\b\b\b\b\b\b\b\b\b\b\b\b\b\b\b\b\b\b\b\b\b\b\b\b\b\b\b\b\b\b\b\b\b\b\b\b\b\b\b\b\b\b\b\b\b\b\b\b\b\b\b\b\b\b\b\b\b\b\b\b\b\b\b\b\b\b\b\b\b\b\b\b\b\b\b\b\b\b\b\r\u001b[1m85/85\u001b[0m \u001b[32m━━━━━━━━━━━━━━━━━━━━\u001b[0m\u001b[37m\u001b[0m \u001b[1m7s\u001b[0m 83ms/step - accuracy: 0.8360 - auc: 0.9524 - loss: 0.9199 - prc: 0.9815 - precision: 0.9787 - recall: 0.8005 - val_accuracy: 0.9018 - val_auc: 0.9825 - val_loss: 0.9244 - val_prc: 0.9946 - val_precision: 0.9934 - val_recall: 0.8752 - learning_rate: 1.0000e-04\n",
            "Epoch 3/30\n",
            "\u001b[1m85/85\u001b[0m \u001b[32m━━━━━━━━━━━━━━━━━━━━\u001b[0m\u001b[37m\u001b[0m \u001b[1m0s\u001b[0m 53ms/step - accuracy: 0.8722 - auc: 0.9703 - loss: 0.8579 - prc: 0.9908 - precision: 0.9813 - recall: 0.8516"
          ]
        },
        {
          "output_type": "stream",
          "name": "stderr",
          "text": [
            "WARNING:absl:You are saving your model as an HDF5 file via `model.save()` or `keras.saving.save_model(model)`. This file format is considered legacy. We recommend using instead the native Keras format, e.g. `model.save('my_model.keras')` or `keras.saving.save_model(model, 'my_model.keras')`. \n"
          ]
        },
        {
          "output_type": "stream",
          "name": "stdout",
          "text": [
            "\b\b\b\b\b\b\b\b\b\b\b\b\b\b\b\b\b\b\b\b\b\b\b\b\b\b\b\b\b\b\b\b\b\b\b\b\b\b\b\b\b\b\b\b\b\b\b\b\b\b\b\b\b\b\b\b\b\b\b\b\b\b\b\b\b\b\b\b\b\b\b\b\b\b\b\b\b\b\b\b\b\b\b\b\b\b\b\b\b\b\b\b\b\b\b\b\b\b\b\b\b\b\b\b\b\b\b\b\b\b\b\b\b\b\b\b\b\b\b\b\b\b\b\b\b\b\b\b\b\b\b\b\b\b\b\b\b\b\r\u001b[1m85/85\u001b[0m \u001b[32m━━━━━━━━━━━━━━━━━━━━\u001b[0m\u001b[37m\u001b[0m \u001b[1m6s\u001b[0m 70ms/step - accuracy: 0.8724 - auc: 0.9703 - loss: 0.8576 - prc: 0.9908 - precision: 0.9812 - recall: 0.8517 - val_accuracy: 0.9252 - val_auc: 0.9855 - val_loss: 0.8553 - val_prc: 0.9956 - val_precision: 0.9978 - val_recall: 0.9025 - learning_rate: 1.0000e-04\n",
            "Epoch 4/30\n",
            "\u001b[1m85/85\u001b[0m \u001b[32m━━━━━━━━━━━━━━━━━━━━\u001b[0m\u001b[37m\u001b[0m \u001b[1m0s\u001b[0m 54ms/step - accuracy: 0.8998 - auc: 0.9798 - loss: 0.7981 - prc: 0.9930 - precision: 0.9804 - recall: 0.8842"
          ]
        },
        {
          "output_type": "stream",
          "name": "stderr",
          "text": [
            "WARNING:absl:You are saving your model as an HDF5 file via `model.save()` or `keras.saving.save_model(model)`. This file format is considered legacy. We recommend using instead the native Keras format, e.g. `model.save('my_model.keras')` or `keras.saving.save_model(model, 'my_model.keras')`. \n"
          ]
        },
        {
          "output_type": "stream",
          "name": "stdout",
          "text": [
            "\b\b\b\b\b\b\b\b\b\b\b\b\b\b\b\b\b\b\b\b\b\b\b\b\b\b\b\b\b\b\b\b\b\b\b\b\b\b\b\b\b\b\b\b\b\b\b\b\b\b\b\b\b\b\b\b\b\b\b\b\b\b\b\b\b\b\b\b\b\b\b\b\b\b\b\b\b\b\b\b\b\b\b\b\b\b\b\b\b\b\b\b\b\b\b\b\b\b\b\b\b\b\b\b\b\b\b\b\b\b\b\b\b\b\b\b\b\b\b\b\b\b\b\b\b\b\b\b\b\b\b\b\b\b\b\b\b\b\r\u001b[1m85/85\u001b[0m \u001b[32m━━━━━━━━━━━━━━━━━━━━\u001b[0m\u001b[37m\u001b[0m \u001b[1m6s\u001b[0m 75ms/step - accuracy: 0.9000 - auc: 0.9798 - loss: 0.7979 - prc: 0.9930 - precision: 0.9804 - recall: 0.8844 - val_accuracy: 0.9267 - val_auc: 0.9865 - val_loss: 0.8599 - val_prc: 0.9961 - val_precision: 0.9978 - val_recall: 0.9045 - learning_rate: 1.0000e-04\n",
            "Epoch 5/30\n",
            "\u001b[1m85/85\u001b[0m \u001b[32m━━━━━━━━━━━━━━━━━━━━\u001b[0m\u001b[37m\u001b[0m \u001b[1m0s\u001b[0m 52ms/step - accuracy: 0.9422 - auc: 0.9914 - loss: 0.7231 - prc: 0.9971 - precision: 0.9885 - recall: 0.9343"
          ]
        },
        {
          "output_type": "stream",
          "name": "stderr",
          "text": [
            "WARNING:absl:You are saving your model as an HDF5 file via `model.save()` or `keras.saving.save_model(model)`. This file format is considered legacy. We recommend using instead the native Keras format, e.g. `model.save('my_model.keras')` or `keras.saving.save_model(model, 'my_model.keras')`. \n"
          ]
        },
        {
          "output_type": "stream",
          "name": "stdout",
          "text": [
            "\b\b\b\b\b\b\b\b\b\b\b\b\b\b\b\b\b\b\b\b\b\b\b\b\b\b\b\b\b\b\b\b\b\b\b\b\b\b\b\b\b\b\b\b\b\b\b\b\b\b\b\b\b\b\b\b\b\b\b\b\b\b\b\b\b\b\b\b\b\b\b\b\b\b\b\b\b\b\b\b\b\b\b\b\b\b\b\b\b\b\b\b\b\b\b\b\b\b\b\b\b\b\b\b\b\b\b\b\b\b\b\b\b\b\b\b\b\b\b\b\b\b\b\b\b\b\b\b\b\b\b\b\b\b\b\b\b\b\r\u001b[1m85/85\u001b[0m \u001b[32m━━━━━━━━━━━━━━━━━━━━\u001b[0m\u001b[37m\u001b[0m \u001b[1m6s\u001b[0m 68ms/step - accuracy: 0.9421 - auc: 0.9914 - loss: 0.7232 - prc: 0.9971 - precision: 0.9885 - recall: 0.9343 - val_accuracy: 0.9413 - val_auc: 0.9875 - val_loss: 0.7854 - val_prc: 0.9963 - val_precision: 0.9917 - val_recall: 0.9298 - learning_rate: 1.0000e-04\n",
            "Epoch 6/30\n",
            "\u001b[1m85/85\u001b[0m \u001b[32m━━━━━━━━━━━━━━━━━━━━\u001b[0m\u001b[37m\u001b[0m \u001b[1m0s\u001b[0m 53ms/step - accuracy: 0.9519 - auc: 0.9921 - loss: 0.7039 - prc: 0.9971 - precision: 0.9903 - recall: 0.9456"
          ]
        },
        {
          "output_type": "stream",
          "name": "stderr",
          "text": [
            "WARNING:absl:You are saving your model as an HDF5 file via `model.save()` or `keras.saving.save_model(model)`. This file format is considered legacy. We recommend using instead the native Keras format, e.g. `model.save('my_model.keras')` or `keras.saving.save_model(model, 'my_model.keras')`. \n"
          ]
        },
        {
          "output_type": "stream",
          "name": "stdout",
          "text": [
            "\b\b\b\b\b\b\b\b\b\b\b\b\b\b\b\b\b\b\b\b\b\b\b\b\b\b\b\b\b\b\b\b\b\b\b\b\b\b\b\b\b\b\b\b\b\b\b\b\b\b\b\b\b\b\b\b\b\b\b\b\b\b\b\b\b\b\b\b\b\b\b\b\b\b\b\b\b\b\b\b\b\b\b\b\b\b\b\b\b\b\b\b\b\b\b\b\b\b\b\b\b\b\b\b\b\b\b\b\b\b\b\b\b\b\b\b\b\b\b\b\b\b\b\b\b\b\b\b\b\b\b\b\b\b\b\b\b\b\r\u001b[1m85/85\u001b[0m \u001b[32m━━━━━━━━━━━━━━━━━━━━\u001b[0m\u001b[37m\u001b[0m \u001b[1m6s\u001b[0m 72ms/step - accuracy: 0.9518 - auc: 0.9921 - loss: 0.7040 - prc: 0.9971 - precision: 0.9902 - recall: 0.9456 - val_accuracy: 0.9501 - val_auc: 0.9904 - val_loss: 0.7554 - val_prc: 0.9971 - val_precision: 0.9938 - val_recall: 0.9396 - learning_rate: 1.0000e-04\n",
            "Epoch 7/30\n",
            "\u001b[1m85/85\u001b[0m \u001b[32m━━━━━━━━━━━━━━━━━━━━\u001b[0m\u001b[37m\u001b[0m \u001b[1m0s\u001b[0m 54ms/step - accuracy: 0.9557 - auc: 0.9916 - loss: 0.6991 - prc: 0.9970 - precision: 0.9914 - recall: 0.9494"
          ]
        },
        {
          "output_type": "stream",
          "name": "stderr",
          "text": [
            "WARNING:absl:You are saving your model as an HDF5 file via `model.save()` or `keras.saving.save_model(model)`. This file format is considered legacy. We recommend using instead the native Keras format, e.g. `model.save('my_model.keras')` or `keras.saving.save_model(model, 'my_model.keras')`. \n"
          ]
        },
        {
          "output_type": "stream",
          "name": "stdout",
          "text": [
            "\b\b\b\b\b\b\b\b\b\b\b\b\b\b\b\b\b\b\b\b\b\b\b\b\b\b\b\b\b\b\b\b\b\b\b\b\b\b\b\b\b\b\b\b\b\b\b\b\b\b\b\b\b\b\b\b\b\b\b\b\b\b\b\b\b\b\b\b\b\b\b\b\b\b\b\b\b\b\b\b\b\b\b\b\b\b\b\b\b\b\b\b\b\b\b\b\b\b\b\b\b\b\b\b\b\b\b\b\b\b\b\b\b\b\b\b\b\b\b\b\b\b\b\b\b\b\b\b\b\b\b\b\b\b\b\b\b\b\r\u001b[1m85/85\u001b[0m \u001b[32m━━━━━━━━━━━━━━━━━━━━\u001b[0m\u001b[37m\u001b[0m \u001b[1m6s\u001b[0m 70ms/step - accuracy: 0.9557 - auc: 0.9917 - loss: 0.6988 - prc: 0.9970 - precision: 0.9914 - recall: 0.9494 - val_accuracy: 0.9501 - val_auc: 0.9912 - val_loss: 0.7126 - val_prc: 0.9972 - val_precision: 0.9858 - val_recall: 0.9474 - learning_rate: 1.0000e-04\n",
            "Epoch 8/30\n",
            "\u001b[1m85/85\u001b[0m \u001b[32m━━━━━━━━━━━━━━━━━━━━\u001b[0m\u001b[37m\u001b[0m \u001b[1m0s\u001b[0m 52ms/step - accuracy: 0.9665 - auc: 0.9954 - loss: 0.6630 - prc: 0.9985 - precision: 0.9932 - recall: 0.9624"
          ]
        },
        {
          "output_type": "stream",
          "name": "stderr",
          "text": [
            "WARNING:absl:You are saving your model as an HDF5 file via `model.save()` or `keras.saving.save_model(model)`. This file format is considered legacy. We recommend using instead the native Keras format, e.g. `model.save('my_model.keras')` or `keras.saving.save_model(model, 'my_model.keras')`. \n"
          ]
        },
        {
          "output_type": "stream",
          "name": "stdout",
          "text": [
            "\b\b\b\b\b\b\b\b\b\b\b\b\b\b\b\b\b\b\b\b\b\b\b\b\b\b\b\b\b\b\b\b\b\b\b\b\b\b\b\b\b\b\b\b\b\b\b\b\b\b\b\b\b\b\b\b\b\b\b\b\b\b\b\b\b\b\b\b\b\b\b\b\b\b\b\b\b\b\b\b\b\b\b\b\b\b\b\b\b\b\b\b\b\b\b\b\b\b\b\b\b\b\b\b\b\b\b\b\b\b\b\b\b\b\b\b\b\b\b\b\b\b\b\b\b\b\b\b\b\b\b\b\b\b\b\b\b\b\r\u001b[1m85/85\u001b[0m \u001b[32m━━━━━━━━━━━━━━━━━━━━\u001b[0m\u001b[37m\u001b[0m \u001b[1m6s\u001b[0m 70ms/step - accuracy: 0.9665 - auc: 0.9954 - loss: 0.6630 - prc: 0.9985 - precision: 0.9932 - recall: 0.9623 - val_accuracy: 0.9560 - val_auc: 0.9929 - val_loss: 0.7134 - val_prc: 0.9977 - val_precision: 0.9959 - val_recall: 0.9454 - learning_rate: 1.0000e-04\n",
            "Epoch 9/30\n",
            "\u001b[1m85/85\u001b[0m \u001b[32m━━━━━━━━━━━━━━━━━━━━\u001b[0m\u001b[37m\u001b[0m \u001b[1m6s\u001b[0m 66ms/step - accuracy: 0.9599 - auc: 0.9942 - loss: 0.6679 - prc: 0.9982 - precision: 0.9909 - recall: 0.9563 - val_accuracy: 0.9428 - val_auc: 0.9891 - val_loss: 0.7078 - val_prc: 0.9966 - val_precision: 0.9778 - val_recall: 0.9454 - learning_rate: 1.0000e-04\n",
            "Epoch 10/30\n",
            "\u001b[1m85/85\u001b[0m \u001b[32m━━━━━━━━━━━━━━━━━━━━\u001b[0m\u001b[37m\u001b[0m \u001b[1m0s\u001b[0m 52ms/step - accuracy: 0.9606 - auc: 0.9943 - loss: 0.6636 - prc: 0.9982 - precision: 0.9924 - recall: 0.9551"
          ]
        },
        {
          "output_type": "stream",
          "name": "stderr",
          "text": [
            "WARNING:absl:You are saving your model as an HDF5 file via `model.save()` or `keras.saving.save_model(model)`. This file format is considered legacy. We recommend using instead the native Keras format, e.g. `model.save('my_model.keras')` or `keras.saving.save_model(model, 'my_model.keras')`. \n"
          ]
        },
        {
          "output_type": "stream",
          "name": "stdout",
          "text": [
            "\b\b\b\b\b\b\b\b\b\b\b\b\b\b\b\b\b\b\b\b\b\b\b\b\b\b\b\b\b\b\b\b\b\b\b\b\b\b\b\b\b\b\b\b\b\b\b\b\b\b\b\b\b\b\b\b\b\b\b\b\b\b\b\b\b\b\b\b\b\b\b\b\b\b\b\b\b\b\b\b\b\b\b\b\b\b\b\b\b\b\b\b\b\b\b\b\b\b\b\b\b\b\b\b\b\b\b\b\b\b\b\b\b\b\b\b\b\b\b\b\b\b\b\b\b\b\b\b\b\b\b\b\b\b\b\b\b\b\r\u001b[1m85/85\u001b[0m \u001b[32m━━━━━━━━━━━━━━━━━━━━\u001b[0m\u001b[37m\u001b[0m \u001b[1m6s\u001b[0m 68ms/step - accuracy: 0.9607 - auc: 0.9943 - loss: 0.6633 - prc: 0.9982 - precision: 0.9924 - recall: 0.9552 - val_accuracy: 0.9619 - val_auc: 0.9928 - val_loss: 0.6970 - val_prc: 0.9978 - val_precision: 0.9939 - val_recall: 0.9552 - learning_rate: 1.0000e-04\n",
            "Epoch 11/30\n",
            "\u001b[1m85/85\u001b[0m \u001b[32m━━━━━━━━━━━━━━━━━━━━\u001b[0m\u001b[37m\u001b[0m \u001b[1m6s\u001b[0m 67ms/step - accuracy: 0.9702 - auc: 0.9979 - loss: 0.6307 - prc: 0.9994 - precision: 0.9974 - recall: 0.9640 - val_accuracy: 0.9604 - val_auc: 0.9899 - val_loss: 0.7257 - val_prc: 0.9971 - val_precision: 0.9980 - val_recall: 0.9493 - learning_rate: 1.0000e-04\n",
            "Epoch 12/30\n",
            "\u001b[1m85/85\u001b[0m \u001b[32m━━━━━━━━━━━━━━━━━━━━\u001b[0m\u001b[37m\u001b[0m \u001b[1m5s\u001b[0m 62ms/step - accuracy: 0.9730 - auc: 0.9967 - loss: 0.6277 - prc: 0.9990 - precision: 0.9965 - recall: 0.9685 - val_accuracy: 0.9575 - val_auc: 0.9911 - val_loss: 0.7098 - val_prc: 0.9973 - val_precision: 0.9919 - val_recall: 0.9513 - learning_rate: 1.0000e-04\n",
            "Epoch 13/30\n",
            "\u001b[1m85/85\u001b[0m \u001b[32m━━━━━━━━━━━━━━━━━━━━\u001b[0m\u001b[37m\u001b[0m \u001b[1m0s\u001b[0m 53ms/step - accuracy: 0.9815 - auc: 0.9981 - loss: 0.5990 - prc: 0.9994 - precision: 0.9962 - recall: 0.9789"
          ]
        },
        {
          "output_type": "stream",
          "name": "stderr",
          "text": [
            "WARNING:absl:You are saving your model as an HDF5 file via `model.save()` or `keras.saving.save_model(model)`. This file format is considered legacy. We recommend using instead the native Keras format, e.g. `model.save('my_model.keras')` or `keras.saving.save_model(model, 'my_model.keras')`. \n"
          ]
        },
        {
          "output_type": "stream",
          "name": "stdout",
          "text": [
            "\b\b\b\b\b\b\b\b\b\b\b\b\b\b\b\b\b\b\b\b\b\b\b\b\b\b\b\b\b\b\b\b\b\b\b\b\b\b\b\b\b\b\b\b\b\b\b\b\b\b\b\b\b\b\b\b\b\b\b\b\b\b\b\b\b\b\b\b\b\b\b\b\b\b\b\b\b\b\b\b\b\b\b\b\b\b\b\b\b\b\b\b\b\b\b\b\b\b\b\b\b\b\b\b\b\b\b\b\b\b\b\b\b\b\b\b\b\b\b\b\b\b\b\b\b\b\b\b\b\b\b\b\b\b\b\b\b\b\r\u001b[1m85/85\u001b[0m \u001b[32m━━━━━━━━━━━━━━━━━━━━\u001b[0m\u001b[37m\u001b[0m \u001b[1m6s\u001b[0m 72ms/step - accuracy: 0.9814 - auc: 0.9981 - loss: 0.5991 - prc: 0.9994 - precision: 0.9962 - recall: 0.9789 - val_accuracy: 0.9707 - val_auc: 0.9945 - val_loss: 0.6374 - val_prc: 0.9982 - val_precision: 0.9901 - val_recall: 0.9708 - learning_rate: 1.0000e-04\n",
            "Epoch 14/30\n",
            "\u001b[1m85/85\u001b[0m \u001b[32m━━━━━━━━━━━━━━━━━━━━\u001b[0m\u001b[37m\u001b[0m \u001b[1m5s\u001b[0m 64ms/step - accuracy: 0.9793 - auc: 0.9964 - loss: 0.6135 - prc: 0.9989 - precision: 0.9946 - recall: 0.9779 - val_accuracy: 0.9545 - val_auc: 0.9917 - val_loss: 0.7065 - val_prc: 0.9975 - val_precision: 0.9979 - val_recall: 0.9415 - learning_rate: 1.0000e-04\n",
            "Epoch 15/30\n",
            "\u001b[1m85/85\u001b[0m \u001b[32m━━━━━━━━━━━━━━━━━━━━\u001b[0m\u001b[37m\u001b[0m \u001b[1m0s\u001b[0m 52ms/step - accuracy: 0.9776 - auc: 0.9967 - loss: 0.6018 - prc: 0.9991 - precision: 0.9957 - recall: 0.9748"
          ]
        },
        {
          "output_type": "stream",
          "name": "stderr",
          "text": [
            "WARNING:absl:You are saving your model as an HDF5 file via `model.save()` or `keras.saving.save_model(model)`. This file format is considered legacy. We recommend using instead the native Keras format, e.g. `model.save('my_model.keras')` or `keras.saving.save_model(model, 'my_model.keras')`. \n"
          ]
        },
        {
          "output_type": "stream",
          "name": "stdout",
          "text": [
            "\b\b\b\b\b\b\b\b\b\b\b\b\b\b\b\b\b\b\b\b\b\b\b\b\b\b\b\b\b\b\b\b\b\b\b\b\b\b\b\b\b\b\b\b\b\b\b\b\b\b\b\b\b\b\b\b\b\b\b\b\b\b\b\b\b\b\b\b\b\b\b\b\b\b\b\b\b\b\b\b\b\b\b\b\b\b\b\b\b\b\b\b\b\b\b\b\b\b\b\b\b\b\b\b\b\b\b\b\b\b\b\b\b\b\b\b\b\b\b\b\b\b\b\b\b\b\b\b\b\b\b\b\b\b\b\b\b\b\r\u001b[1m85/85\u001b[0m \u001b[32m━━━━━━━━━━━━━━━━━━━━\u001b[0m\u001b[37m\u001b[0m \u001b[1m6s\u001b[0m 70ms/step - accuracy: 0.9777 - auc: 0.9968 - loss: 0.6018 - prc: 0.9991 - precision: 0.9957 - recall: 0.9748 - val_accuracy: 0.9692 - val_auc: 0.9948 - val_loss: 0.6281 - val_prc: 0.9984 - val_precision: 0.9900 - val_recall: 0.9688 - learning_rate: 1.0000e-04\n",
            "Epoch 16/30\n",
            "\u001b[1m85/85\u001b[0m \u001b[32m━━━━━━━━━━━━━━━━━━━━\u001b[0m\u001b[37m\u001b[0m \u001b[1m6s\u001b[0m 67ms/step - accuracy: 0.9860 - auc: 0.9995 - loss: 0.5705 - prc: 0.9998 - precision: 0.9990 - recall: 0.9824 - val_accuracy: 0.9633 - val_auc: 0.9934 - val_loss: 0.6522 - val_prc: 0.9980 - val_precision: 0.9939 - val_recall: 0.9571 - learning_rate: 1.0000e-04\n",
            "Epoch 17/30\n",
            "\u001b[1m85/85\u001b[0m \u001b[32m━━━━━━━━━━━━━━━━━━━━\u001b[0m\u001b[37m\u001b[0m \u001b[1m5s\u001b[0m 63ms/step - accuracy: 0.9792 - auc: 0.9985 - loss: 0.5778 - prc: 0.9995 - precision: 0.9978 - recall: 0.9746 - val_accuracy: 0.9707 - val_auc: 0.9921 - val_loss: 0.6233 - val_prc: 0.9974 - val_precision: 0.9862 - val_recall: 0.9747 - learning_rate: 1.0000e-04\n",
            "Epoch 18/30\n",
            "\u001b[1m85/85\u001b[0m \u001b[32m━━━━━━━━━━━━━━━━━━━━\u001b[0m\u001b[37m\u001b[0m \u001b[1m6s\u001b[0m 67ms/step - accuracy: 0.9870 - auc: 0.9973 - loss: 0.5748 - prc: 0.9990 - precision: 0.9918 - recall: 0.9909 - val_accuracy: 0.9648 - val_auc: 0.9939 - val_loss: 0.6212 - val_prc: 0.9980 - val_precision: 0.9880 - val_recall: 0.9649 - learning_rate: 1.0000e-04\n",
            "Epoch 19/30\n",
            "\u001b[1m85/85\u001b[0m \u001b[32m━━━━━━━━━━━━━━━━━━━━\u001b[0m\u001b[37m\u001b[0m \u001b[1m5s\u001b[0m 63ms/step - accuracy: 0.9865 - auc: 0.9990 - loss: 0.5543 - prc: 0.9997 - precision: 0.9953 - recall: 0.9868 - val_accuracy: 0.9648 - val_auc: 0.9938 - val_loss: 0.6123 - val_prc: 0.9980 - val_precision: 0.9822 - val_recall: 0.9708 - learning_rate: 1.0000e-04\n",
            "Epoch 20/30\n",
            "\u001b[1m85/85\u001b[0m \u001b[32m━━━━━━━━━━━━━━━━━━━━\u001b[0m\u001b[37m\u001b[0m \u001b[1m0s\u001b[0m 53ms/step - accuracy: 0.9875 - auc: 0.9995 - loss: 0.5399 - prc: 0.9998 - precision: 0.9958 - recall: 0.9875"
          ]
        },
        {
          "output_type": "stream",
          "name": "stderr",
          "text": [
            "WARNING:absl:You are saving your model as an HDF5 file via `model.save()` or `keras.saving.save_model(model)`. This file format is considered legacy. We recommend using instead the native Keras format, e.g. `model.save('my_model.keras')` or `keras.saving.save_model(model, 'my_model.keras')`. \n"
          ]
        },
        {
          "output_type": "stream",
          "name": "stdout",
          "text": [
            "\b\b\b\b\b\b\b\b\b\b\b\b\b\b\b\b\b\b\b\b\b\b\b\b\b\b\b\b\b\b\b\b\b\b\b\b\b\b\b\b\b\b\b\b\b\b\b\b\b\b\b\b\b\b\b\b\b\b\b\b\b\b\b\b\b\b\b\b\b\b\b\b\b\b\b\b\b\b\b\b\b\b\b\b\b\b\b\b\b\b\b\b\b\b\b\b\b\b\b\b\b\b\b\b\b\b\b\b\b\b\b\b\b\b\b\b\b\b\b\b\b\b\b\b\b\b\b\b\b\b\b\b\b\b\b\b\b\b\r\u001b[1m85/85\u001b[0m \u001b[32m━━━━━━━━━━━━━━━━━━━━\u001b[0m\u001b[37m\u001b[0m \u001b[1m6s\u001b[0m 73ms/step - accuracy: 0.9875 - auc: 0.9995 - loss: 0.5399 - prc: 0.9998 - precision: 0.9958 - recall: 0.9874 - val_accuracy: 0.9692 - val_auc: 0.9957 - val_loss: 0.5892 - val_prc: 0.9986 - val_precision: 0.9824 - val_recall: 0.9766 - learning_rate: 1.0000e-04\n",
            "Epoch 21/30\n",
            "\u001b[1m85/85\u001b[0m \u001b[32m━━━━━━━━━━━━━━━━━━━━\u001b[0m\u001b[37m\u001b[0m \u001b[1m5s\u001b[0m 65ms/step - accuracy: 0.9852 - auc: 0.9998 - loss: 0.5323 - prc: 0.9999 - precision: 0.9976 - recall: 0.9831 - val_accuracy: 0.9604 - val_auc: 0.9947 - val_loss: 0.6142 - val_prc: 0.9985 - val_precision: 0.9959 - val_recall: 0.9513 - learning_rate: 1.0000e-04\n",
            "Epoch 22/30\n",
            "\u001b[1m85/85\u001b[0m \u001b[32m━━━━━━━━━━━━━━━━━━━━\u001b[0m\u001b[37m\u001b[0m \u001b[1m5s\u001b[0m 63ms/step - accuracy: 0.9909 - auc: 0.9996 - loss: 0.5262 - prc: 0.9999 - precision: 0.9955 - recall: 0.9923 - val_accuracy: 0.9663 - val_auc: 0.9950 - val_loss: 0.5919 - val_prc: 0.9986 - val_precision: 0.9940 - val_recall: 0.9610 - learning_rate: 1.0000e-04\n",
            "Epoch 23/30\n",
            "\u001b[1m85/85\u001b[0m \u001b[32m━━━━━━━━━━━━━━━━━━━━\u001b[0m\u001b[37m\u001b[0m \u001b[1m6s\u001b[0m 67ms/step - accuracy: 0.9907 - auc: 0.9989 - loss: 0.5240 - prc: 0.9997 - precision: 0.9964 - recall: 0.9913 - val_accuracy: 0.9648 - val_auc: 0.9949 - val_loss: 0.5885 - val_prc: 0.9985 - val_precision: 0.9959 - val_recall: 0.9571 - learning_rate: 1.0000e-04\n",
            "Epoch 24/30\n",
            "\u001b[1m85/85\u001b[0m \u001b[32m━━━━━━━━━━━━━━━━━━━━\u001b[0m\u001b[37m\u001b[0m \u001b[1m5s\u001b[0m 62ms/step - accuracy: 0.9938 - auc: 0.9990 - loss: 0.5079 - prc: 0.9997 - precision: 0.9981 - recall: 0.9937 - val_accuracy: 0.9619 - val_auc: 0.9880 - val_loss: 0.6362 - val_prc: 0.9966 - val_precision: 0.9959 - val_recall: 0.9532 - learning_rate: 1.0000e-04\n",
            "Epoch 25/30\n",
            "\u001b[1m85/85\u001b[0m \u001b[32m━━━━━━━━━━━━━━━━━━━━\u001b[0m\u001b[37m\u001b[0m \u001b[1m5s\u001b[0m 65ms/step - accuracy: 0.9938 - auc: 0.9997 - loss: 0.5031 - prc: 0.9999 - precision: 0.9968 - recall: 0.9949 - val_accuracy: 0.9589 - val_auc: 0.9887 - val_loss: 0.6584 - val_prc: 0.9969 - val_precision: 1.0000 - val_recall: 0.9454 - learning_rate: 1.0000e-04\n",
            "Epoch 26/30\n",
            "\u001b[1m85/85\u001b[0m \u001b[32m━━━━━━━━━━━━━━━━━━━━\u001b[0m\u001b[37m\u001b[0m \u001b[1m5s\u001b[0m 64ms/step - accuracy: 0.9897 - auc: 0.9995 - loss: 0.5017 - prc: 0.9998 - precision: 0.9938 - recall: 0.9927 - val_accuracy: 0.9663 - val_auc: 0.9941 - val_loss: 0.5761 - val_prc: 0.9983 - val_precision: 0.9940 - val_recall: 0.9610 - learning_rate: 1.0000e-04\n",
            "Epoch 27/30\n",
            "\u001b[1m85/85\u001b[0m \u001b[32m━━━━━━━━━━━━━━━━━━━━\u001b[0m\u001b[37m\u001b[0m \u001b[1m5s\u001b[0m 63ms/step - accuracy: 0.9884 - auc: 0.9995 - loss: 0.4925 - prc: 0.9999 - precision: 0.9982 - recall: 0.9867 - val_accuracy: 0.9619 - val_auc: 0.9937 - val_loss: 0.5882 - val_prc: 0.9982 - val_precision: 0.9980 - val_recall: 0.9513 - learning_rate: 1.0000e-04\n",
            "Epoch 28/30\n",
            "\u001b[1m85/85\u001b[0m \u001b[32m━━━━━━━━━━━━━━━━━━━━\u001b[0m\u001b[37m\u001b[0m \u001b[1m6s\u001b[0m 67ms/step - accuracy: 0.9905 - auc: 0.9993 - loss: 0.4850 - prc: 0.9998 - precision: 0.9983 - recall: 0.9891 - val_accuracy: 0.9589 - val_auc: 0.9937 - val_loss: 0.5871 - val_prc: 0.9982 - val_precision: 0.9979 - val_recall: 0.9474 - learning_rate: 1.0000e-04\n"
          ]
        },
        {
          "output_type": "stream",
          "name": "stderr",
          "text": [
            "WARNING:absl:Compiled the loaded model, but the compiled metrics have yet to be built. `model.compile_metrics` will be empty until you train or evaluate the model.\n"
          ]
        }
      ]
    },
    {
      "cell_type": "code",
      "source": [
        "model.save(\"xray_classification.keras\")"
      ],
      "metadata": {
        "id": "b33tMxhnKOOe"
      },
      "execution_count": 3,
      "outputs": []
    },
    {
      "cell_type": "code",
      "source": [
        "# 5. Enhanced Evaluation ------------------------------------------------------\n",
        "\n",
        "# Evaluate on test set\n",
        "test_results = model.evaluate(test_ds)\n",
        "display(Markdown(f\"## Test Results\\n\"\n",
        "                 f\"- **Accuracy**: {test_results[1]:.4f}\\n\"\n",
        "                 f\"- **Precision**: {test_results[2]:.4f}\\n\"\n",
        "                 f\"- **Recall**: {test_results[3]:.4f}\\n\"\n",
        "                 f\"- **AUC**: {test_results[4]:.4f}\\n\"\n",
        "                 f\"- **PR AUC**: {test_results[5]:.4f}\"))\n",
        "\n",
        "# Predictions\n",
        "y_true = test_labels\n",
        "y_pred_probs = model.predict(test_ds)\n",
        "y_pred = (y_pred_probs > 0.5).astype(int)\n",
        "\n",
        "# Classification Report\n",
        "print(\"\\nClassification Report (Threshold=0.5):\")\n",
        "print(classification_report(y_true, y_pred, target_names=[\"NORMAL\", \"PNEUMONIA\"]))\n",
        "\n",
        "# Find optimal threshold using Precision-Recall curve\n",
        "precision, recall, thresholds = precision_recall_curve(y_true, y_pred_probs)\n",
        "f1_scores = 2 * (precision * recall) / (precision + recall + 1e-9)\n",
        "optimal_idx = np.argmax(f1_scores)\n",
        "optimal_threshold = thresholds[optimal_idx]\n",
        "\n",
        "print(f\"\\nOptimal Threshold: {optimal_threshold:.4f} (F1={f1_scores[optimal_idx]:.4f})\")\n",
        "\n",
        "# Classification Report with Optimal Threshold\n",
        "y_pred_optimal = (y_pred_probs > optimal_threshold).astype(int)\n",
        "print(\"\\nClassification Report (Optimal Threshold):\")\n",
        "print(classification_report(y_true, y_pred_optimal, target_names=[\"NORMAL\", \"PNEUMONIA\"]))\n",
        "\n",
        "# Confusion Matrix\n",
        "plt.figure(figsize=(12, 5))\n",
        "\n",
        "plt.subplot(1, 2, 1)\n",
        "cm_default = confusion_matrix(y_true, y_pred)\n",
        "sns.heatmap(cm_default, annot=True, fmt=\"d\", cmap=\"Blues\",\n",
        "            xticklabels=[\"NORMAL\", \"PNEUMONIA\"],\n",
        "            yticklabels=[\"NORMAL\", \"PNEUMONIA\"])\n",
        "plt.title(\"Confusion Matrix (Threshold=0.5)\")\n",
        "plt.ylabel(\"True Label\")\n",
        "plt.xlabel(\"Predicted Label\")\n",
        "\n",
        "plt.subplot(1, 2, 2)\n",
        "cm_optimal = confusion_matrix(y_true, y_pred_optimal)\n",
        "sns.heatmap(cm_optimal, annot=True, fmt=\"d\", cmap=\"Greens\",\n",
        "            xticklabels=[\"NORMAL\", \"PNEUMONIA\"],\n",
        "            yticklabels=[\"NORMAL\", \"PNEUMONIA\"])\n",
        "plt.title(f\"Confusion Matrix (Threshold={optimal_threshold:.2f})\")\n",
        "plt.ylabel(\"True Label\")\n",
        "plt.xlabel(\"Predicted Label\")\n",
        "\n",
        "plt.tight_layout()\n",
        "plt.show()\n",
        "\n",
        "# Precision-Recall Curve\n",
        "plt.figure(figsize=(8, 6))\n",
        "plt.plot(recall, precision, color='darkblue', lw=2)\n",
        "plt.scatter(recall[optimal_idx], precision[optimal_idx], color='red', s=100,\n",
        "            label=f'Optimal Threshold ({optimal_threshold:.2f})')\n",
        "plt.xlabel('Recall')\n",
        "plt.ylabel('Precision')\n",
        "plt.title('Precision-Recall Curve')\n",
        "plt.legend()\n",
        "plt.grid(True)\n",
        "plt.show()"
      ],
      "metadata": {
        "colab": {
          "base_uri": "https://localhost:8080/",
          "height": 1000
        },
        "id": "N9LV2hzP9UjB",
        "outputId": "3116a5fd-5540-431d-b27c-8feca2fe8e03"
      },
      "execution_count": null,
      "outputs": [
        {
          "output_type": "stream",
          "name": "stdout",
          "text": [
            "\u001b[1m20/20\u001b[0m \u001b[32m━━━━━━━━━━━━━━━━━━━━\u001b[0m\u001b[37m\u001b[0m \u001b[1m23s\u001b[0m 654ms/step - accuracy: 0.6430 - auc: 0.6224 - loss: 1.3715 - prc: 0.5810 - precision: 0.3870 - recall: 0.6585\n"
          ]
        },
        {
          "output_type": "display_data",
          "data": {
            "text/plain": [
              "<IPython.core.display.Markdown object>"
            ],
            "text/markdown": "## Test Results\n- **Accuracy**: 0.8003\n- **Precision**: 0.7625\n- **Recall**: 0.9900\n- **AUC**: 0.9335\n- **PR AUC**: 0.9516"
          },
          "metadata": {}
        },
        {
          "output_type": "stream",
          "name": "stdout",
          "text": [
            "\u001b[1m20/20\u001b[0m \u001b[32m━━━━━━━━━━━━━━━━━━━━\u001b[0m\u001b[37m\u001b[0m \u001b[1m13s\u001b[0m 385ms/step\n",
            "\n",
            "Classification Report (Threshold=0.5):\n",
            "              precision    recall  f1-score   support\n",
            "\n",
            "      NORMAL       0.97      0.48      0.64       237\n",
            "   PNEUMONIA       0.76      0.99      0.86       399\n",
            "\n",
            "    accuracy                           0.80       636\n",
            "   macro avg       0.86      0.74      0.75       636\n",
            "weighted avg       0.84      0.80      0.78       636\n",
            "\n",
            "\n",
            "Optimal Threshold: 0.8768 (F1=0.9091)\n",
            "\n",
            "Classification Report (Optimal Threshold):\n",
            "              precision    recall  f1-score   support\n",
            "\n",
            "      NORMAL       0.92      0.73      0.82       237\n",
            "   PNEUMONIA       0.86      0.96      0.91       399\n",
            "\n",
            "    accuracy                           0.88       636\n",
            "   macro avg       0.89      0.85      0.86       636\n",
            "weighted avg       0.88      0.88      0.87       636\n",
            "\n"
          ]
        },
        {
          "output_type": "display_data",
          "data": {
            "text/plain": [
              "<Figure size 1200x500 with 4 Axes>"
            ],
            "image/png": "[encoded data removed]"
          },
          "metadata": {}
        },
        {
          "output_type": "display_data",
          "data": {
            "text/plain": [
              "<Figure size 800x600 with 1 Axes>"
            ],
            "image/png": "[encoded data removed]"
          },
          "metadata": {}
        }
      ]
    },
    {
      "cell_type": "code",
      "source": [],
      "metadata": {
        "id": "Y2hsdC2Z1p6D"
      },
      "execution_count": null,
      "outputs": []
    }
  ]
}